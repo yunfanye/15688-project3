{
 "cells": [
  {
   "cell_type": "markdown",
   "metadata": {},
   "source": [
    "# Natural Language Processing (688 only) [35pts]\n",
    "## Introduction\n",
    "\n",
    "In this problem you will develop two techniques for analyzing free text documents: a bag of words approach based upon creating a TFIDF matrix, and an n-gram language model.\n",
    "\n",
    "You'll be applying your models to the text from the Federalist Papers.  The Federalist papers were a series of essay written in 1787 and 1788 by Alexander Hamilton, James Madison, and John Jay (they were published anonymously at the time), that promoted the ratification of the U.S. Constitution.  If you're curious, you can read more about them here: https://en.wikipedia.org/wiki/The_Federalist_Papers . They are a particularly interesting data set, because although the authorship of most of the essays has been long known since around the deaths of Hamilton and Madison, there was still some question about the authorship of certain articles into the 20th century.  You'll use document vectors and language models to do this analysis for yourself."
   ]
  },
  {
   "cell_type": "markdown",
   "metadata": {},
   "source": [
    "## The dataset\n",
    "\n",
    "You'll use a copy of the Federalist Papers downloaded from Project Guttenberg, available here: http://www.gutenberg.org/ebooks/18 .  Specifically, the \"pg18.txt\" file included with the homework is the raw text downloaded from Project Guttenberg.  To ensure that everyone starts with the exact same corpus, we are providing you the code to load and tokenize this document, as given below."
   ]
  },
  {
   "cell_type": "code",
   "execution_count": 1,
   "metadata": {
    "collapsed": false
   },
   "outputs": [],
   "source": [
    "import re\n",
    "\n",
    "def load_federalist_corpus(filename):\n",
    "    \"\"\" Load the federalist papers as a tokenized list of strings, one for each eassay\"\"\"\n",
    "    with open(filename, \"rt\") as f:\n",
    "        data = f.read()\n",
    "    papers = data.split(\"FEDERALIST\")\n",
    "    \n",
    "    # all start with \"To the people of the State of New York:\" (sometimes . instead of :)\n",
    "    # all end with PUBLIUS (or no end at all)\n",
    "    locations = [(i,[-1] + [m.end()+1 for m in re.finditer(r\"of the State of New York\", p)],\n",
    "                 [-1] + [m.start() for m in re.finditer(r\"PUBLIUS\", p)]) for i,p in enumerate(papers)]\n",
    "    papers_content = [papers[i][max(loc[1]):max(loc[2])] for i,loc in enumerate(locations)]\n",
    "\n",
    "    # discard entries that are not actually a paper\n",
    "    papers_content = [p for p in papers_content if len(p) > 0]\n",
    "\n",
    "    # replace all whitespace with a single space\n",
    "    papers_content = [re.sub(r\"\\s+\", \" \", p).lower() for p in papers_content]\n",
    "\n",
    "    # add spaces before all punctuation, so they are separate tokens\n",
    "    punctuation = set(re.findall(r\"[^\\w\\s]+\", \" \".join(papers_content))) - {\"-\",\"'\"}\n",
    "    for c in punctuation:\n",
    "        papers_content = [p.replace(c, \" \"+c+\" \") for p in papers_content]\n",
    "    papers_content = [re.sub(r\"\\s+\", \" \", p).lower().strip() for p in papers_content]\n",
    "    \n",
    "    authors = [tuple(re.findall(\"MADISON|JAY|HAMILTON\", a)) for a in papers]\n",
    "    authors = [a for a in authors if len(a) > 0]\n",
    "    \n",
    "    numbers = [re.search(r\"No\\. \\d+\", p).group(0) for p in papers if re.search(r\"No\\. \\d+\", p)]\n",
    "    \n",
    "    return papers_content, authors, numbers\n",
    "    \n",
    "    "
   ]
  },
  {
   "cell_type": "code",
   "execution_count": 13,
   "metadata": {
    "collapsed": false
   },
   "outputs": [],
   "source": [
    "### AUTOLAB_IGNORE_START\n",
    "# papers, authors, numbers = load_federalist_corpus(\"pg18.txt\")\n",
    "### AUTOLAB_IGNORE_STOP"
   ]
  },
  {
   "cell_type": "markdown",
   "metadata": {},
   "source": [
    "You're welcome to dig through the code here if you're curious, but it's more important that you look at the objects that the function returns.  The `papers` object is a list of strings, each one containing the full content of one of the Federalist Papers.  All tokens (words) in the text are separated by a single space (this includes some puncutation tokens, which have been modified to include spaces both before and after the punctuation. The `authors` object is a list of lists, which each list contains the author (or potential authors) of a given paper.  Finally the `numbers` list just contains the number of each Federalist paper.  You won't need to use this last one, but you may be curious to compare the results of your textual analysis to the opinion of historians."
   ]
  },
  {
   "cell_type": "markdown",
   "metadata": {},
   "source": [
    "## Q1: Bag of words, and TFIDF [6+6pts]\n",
    "\n",
    "In this portion of the question, you'll use a bag of words model to describe the corpus, and write routines to build a TFIDF matrix and a cosine similarity function.  Specifically, you should first implement the TFIDF function below.  This should return a _sparse_ TFIDF matrix (as for the Graph Library assignment, make sure to directly create a sparse matrix using `scipy.sparse.coo_matrix()` rather than create a dense matrix and then convert it to be sparse).\n",
    "\n",
    "Important: make sure you do _not_ include the empty token `\"\"` as one of your terms. "
   ]
  },
  {
   "cell_type": "code",
   "execution_count": 3,
   "metadata": {
    "collapsed": false
   },
   "outputs": [],
   "source": [
    "import collections # optional, but we found the collections.Counter object useful\n",
    "import scipy.sparse as sp\n",
    "import numpy as np \n",
    "\n",
    "def tfidf(docs):\n",
    "    \"\"\"\n",
    "    Create TFIDF matrix.  This function creates a TFIDF matrix from the\n",
    "    docs input.\n",
    "\n",
    "    Args:\n",
    "        docs: list of strings, where each string represents a space-separated\n",
    "              document\n",
    "    \n",
    "    Returns: tuple: (tfidf, all_words)\n",
    "        tfidf: sparse matrix (in any scipy sparse format) of size (# docs) x\n",
    "               (# total unique words), where i,j entry is TFIDF score for \n",
    "               document i and term j\n",
    "        all_words: list of strings, where the ith element indicates the word\n",
    "                   that corresponds to the ith column in the TFIDF matrix\n",
    "    \"\"\"\n",
    "    vocab = {}\n",
    "    df = {}\n",
    "    regex = re.compile(\"\\s+\")\n",
    "    count = 0\n",
    "    for doc in docs:\n",
    "        terms = re.split(regex, doc)\n",
    "        for term in set(terms):\n",
    "            if len(term) > 0:\n",
    "                if term not in vocab:\n",
    "                    vocab[term] = count  # (index, df)\n",
    "                    df[term] = 1\n",
    "                    count += 1\n",
    "                else:\n",
    "                    df[term] += 1\n",
    "    num_docs = len(docs)\n",
    "    scores = []\n",
    "    for i in range(0, num_docs):\n",
    "        scores.append({})\n",
    "\n",
    "    for index in range(0, num_docs):\n",
    "        terms = re.split(regex, docs[index])\n",
    "        for term, tf in collections.Counter(terms).most_common():\n",
    "            if len(term) > 0:\n",
    "                term_index = vocab[term]\n",
    "                score = float(tf) * np.log(float(num_docs) / float(df[term]))\n",
    "                if score > 0.0:\n",
    "                    scores[index][term_index] = score\n",
    "\n",
    "    i_list = []\n",
    "    j_list = []\n",
    "    data = []\n",
    "\n",
    "    for i in range(0, num_docs):\n",
    "        for j, score in scores[i].iteritems():\n",
    "            i_list.append(i)\n",
    "            j_list.append(j)\n",
    "            data.append(score)\n",
    "\n",
    "    matrix = sp.csr_matrix((data, (i_list, j_list)), shape=(num_docs, len(vocab)))\n",
    "    reverse_map = {v: k for k, v in vocab.iteritems()}\n",
    "    return matrix, reverse_map.values()"
   ]
  },
  {
   "cell_type": "code",
   "execution_count": 4,
   "metadata": {
    "collapsed": false
   },
   "outputs": [],
   "source": [
    "### AUTOLAB_IGNORE_START\n",
    "\n",
    "# X_tfidf, words = tfidf(papers)\n",
    "# print type(X_tfidf)\n",
    "# print type(words)\n",
    "# print len(X_tfidf.nonzero()[0])\n",
    "# print len(words)\n",
    "\n",
    "### AUTOLAB_IGNORE_STOP"
   ]
  },
  {
   "cell_type": "markdown",
   "metadata": {},
   "source": [
    "Our version results the following result (just showing the type, size, and # of non-zero elements):\n",
    "\n",
    "    <86x8686 sparse matrix of type '<type 'numpy.float64'>'\n",
    "        with 57607 stored elements in Compressed Sparse Row format>\n",
    "     \n",
    "For testing, you can also run the algorithm on the following \"data set\" from class:"
   ]
  },
  {
   "cell_type": "code",
   "execution_count": 5,
   "metadata": {
    "collapsed": false
   },
   "outputs": [],
   "source": [
    "### AUTOLAB_IGNORE_START\n",
    "# data = [\n",
    "#     \"the goal of this lecture is to explain the basics of free text processing\",\n",
    "#     \"the bag of words model is one such approach\",\n",
    "#     \"text processing via bag of words\"\n",
    "# ]\n",
    "\n",
    "# X_tfidf, words = tfidf(data)\n",
    "# print X_tfidf.todense()\n",
    "# print words\n",
    "# print len(X_tfidf.nonzero()[0])\n",
    "\n",
    "### AUTOLAB_IGNORE_STOP"
   ]
  },
  {
   "cell_type": "markdown",
   "metadata": {},
   "source": [
    "For our implementation, this returns the following output:\n",
    "\n",
    "    [[ 0.          0.          1.09861229  1.09861229  0.          1.09861229\n",
    "       0.          0.40546511  0.40546511  1.09861229  0.          1.09861229\n",
    "       0.          0.          0.40546511  1.09861229  0.81093022  0.\n",
    "       1.09861229]\n",
    "     [ 1.09861229  1.09861229  0.          0.          0.40546511  0.          0.\n",
    "       0.40546511  0.          0.          1.09861229  0.          0.\n",
    "       0.40546511  0.          0.          0.40546511  1.09861229  0.        ]\n",
    "     [ 0.          0.          0.          0.          0.40546511  0.          0.\n",
    "       0.          0.40546511  0.          0.          0.          1.09861229\n",
    "       0.40546511  0.40546511  0.          0.          0.          0.        ]]\n",
    "    ['model', 'such', 'basics', 'goal', 'bag', 'this', 'of', 'is', 'processing', 'free', 'one', 'to', 'via', 'words', 'text', 'lecture', 'the', 'approach', 'explain']"
   ]
  },
  {
   "cell_type": "markdown",
   "metadata": {},
   "source": [
    "Next, implement the following simply function that takes the X_tfidf matrix (though it could also take simple term frequency matrices, etc), and compute a matrix of all pair-wise cosine similarities."
   ]
  },
  {
   "cell_type": "code",
   "execution_count": 6,
   "metadata": {
    "collapsed": true
   },
   "outputs": [],
   "source": [
    "def cosine_similarity(X):\n",
    "    \"\"\"\n",
    "    Return a matrix of cosine similarities.\n",
    "    \n",
    "    Args:\n",
    "        X: sparse matrix of TFIDF scores or term frequencies\n",
    "    \n",
    "    Returns:\n",
    "        M: dense numpy array of all pairwise cosine similarities.  That is, the \n",
    "           entry M[i,j], should correspond to the cosine similarity between the \n",
    "           ith and jth rows of X.\n",
    "    \"\"\" \n",
    "    matrix = X.dot(X.transpose()).todense()\n",
    "    mat_len = len(matrix)\n",
    "    norms = [0] * mat_len\n",
    "    for i in range(0, mat_len):\n",
    "        norms[i] = 1.0 / np.sqrt(matrix.item((i, i)))\n",
    "    norm_mat = np.matrix(norms)\n",
    "    return np.multiply(norm_mat.transpose().dot(norm_mat), matrix)"
   ]
  },
  {
   "cell_type": "code",
   "execution_count": 7,
   "metadata": {
    "collapsed": false
   },
   "outputs": [],
   "source": [
    "### AUTOLAB_IGNORE_START\n",
    "# print cosine_similarity(X_tfidf)\n",
    "### AUTOLAB_IGNORE_STOP"
   ]
  },
  {
   "cell_type": "markdown",
   "metadata": {},
   "source": [
    "If you apply this function to the example from class:\n",
    "\n",
    "    M = cosine_similarity(X_tfidf)\n",
    "    \n",
    "we get the result presented in the slides:\n",
    "\n",
    "    [[ 1.          0.06796739  0.07771876]\n",
    "     [ 0.06796739  1.          0.10281225]\n",
    "     [ 0.07771876  0.10281225  1.        ]]"
   ]
  },
  {
   "cell_type": "markdown",
   "metadata": {},
   "source": [
    "Finally, use this model to analyze potential authorship of the unknown Federalist Papers.  Specifically, compute the average cosine similarity between all the _known_ Hamilton papers and all the _unknown_ papers (and similarly between known Madison and unknown, and Jay and unknown).  Populate the following variables with these averages.  As a quick check, our value for the `jay_mean_cosine_similarity` (and we know definitively that the unknown papers were _not_ written by Jay), is 0.064939."
   ]
  },
  {
   "cell_type": "code",
   "execution_count": 14,
   "metadata": {
    "collapsed": false
   },
   "outputs": [],
   "source": [
    "### AUTOLAB_IGNORE_START\n",
    "# hamilton = []\n",
    "# madison = []\n",
    "# jay = []\n",
    "# unknown = []\n",
    "\n",
    "# h_indexes = []\n",
    "# m_indexes = []\n",
    "# j_indexes = []\n",
    "# u_indexes = []\n",
    "\n",
    "# index = -1\n",
    "# for p, a in zip(papers, authors):\n",
    "#     index += 1\n",
    "#     if len(a) > 1:\n",
    "#         unknown.append(p)\n",
    "#         u_indexes.append(index)\n",
    "#         continue\n",
    "#     if 'HAMILTON' in a:\n",
    "#         hamilton.append(p)\n",
    "#         h_indexes.append(index)\n",
    "#     if \"MADISON\" in a:\n",
    "#         madison.append(p)\n",
    "#         m_indexes.append(index)\n",
    "#     if \"JAY\" in a:\n",
    "#         jay.append(p)\n",
    "#         j_indexes.append(index)\n",
    "\n",
    "# print \"u_len: \", len(u_indexes), \" j_len: \", len(j_indexes) \n",
    "        \n",
    "# X_tfidf, words = tfidf(papers)\n",
    "# similarity = cosine_similarity(X_tfidf)\n",
    "\n",
    "# hamilton_mean_cosine_similarity = 0.0 \n",
    "# madison_mean_cosine_similarity = 0.0\n",
    "# jay_mean_cosine_similarity = 0.0\n",
    "\n",
    "# for i in u_indexes:\n",
    "#     for j in h_indexes:\n",
    "#         hamilton_mean_cosine_similarity += similarity.item((i, j))\n",
    "#     for j in m_indexes:\n",
    "#         madison_mean_cosine_similarity += similarity.item((i, j))\n",
    "#     for j in j_indexes:\n",
    "#         jay_mean_cosine_similarity += similarity.item((i, j))\n",
    "        \n",
    "# hamilton_mean_cosine_similarity /= float(len(u_indexes) * len(h_indexes))\n",
    "# madison_mean_cosine_similarity /= float(len(u_indexes) * len(m_indexes))\n",
    "# jay_mean_cosine_similarity /= float(len(u_indexes) * len(j_indexes))\n",
    "\n",
    "# print jay_mean_cosine_similarity\n",
    "### AUTOLAB_IGNORE_STOP"
   ]
  },
  {
   "cell_type": "code",
   "execution_count": null,
   "metadata": {
    "collapsed": false
   },
   "outputs": [],
   "source": []
  },
  {
   "cell_type": "markdown",
   "metadata": {},
   "source": [
    "## Q2: N-gram language models [0+10+13pts]"
   ]
  },
  {
   "cell_type": "markdown",
   "metadata": {},
   "source": [
    "In this question, you will implement an n-gram model to be able to model the language used in the Federalist Papers in a more structured manner than the simple bag of words approach.  You will fill in the following class:"
   ]
  },
  {
   "cell_type": "code",
   "execution_count": 33,
   "metadata": {
    "collapsed": true
   },
   "outputs": [],
   "source": [
    "import random\n",
    "import math\n",
    "\n",
    "class LanguageModel:\n",
    "    def __init__(self, docs, n):\n",
    "        \"\"\"\n",
    "        Initialize an n-gram language model.\n",
    "\n",
    "        Args:\n",
    "            docs: list of strings, where each string represents a space-separated\n",
    "                  document\n",
    "            n: integer, degree of n-gram model\n",
    "        \"\"\"\n",
    "        self.n = n\n",
    "        self.dict = {}\n",
    "        self.vocab = set()\n",
    "        self.sum_index = \"**sum*\"\n",
    "        regex = re.compile(\"\\s+\")\n",
    "        count = 0\n",
    "        for doc in docs:\n",
    "            terms = re.split(regex, doc)\n",
    "            self.vocab = self.vocab.union(set(terms))\n",
    "            for i in range(0, len(terms) - n + 1):\n",
    "                end = i+n-1\n",
    "                t = tuple(terms[i:end])\n",
    "                if t not in self.dict:\n",
    "                    self.dict[t] = {}\n",
    "                    self.dict[t][self.sum_index] = 0\n",
    "                self.dict[t][self.sum_index] += 1\n",
    "                end_term = terms[end]\n",
    "                if end_term not in self.dict[t]:\n",
    "                    self.dict[t][end_term] = 1\n",
    "                else:\n",
    "                    self.dict[t][end_term] += 1\n",
    "\n",
    "    def perplexity(self, text, alpha=1e-3):\n",
    "        \"\"\"\n",
    "        Evaluate perplexity of model on some text.\n",
    "\n",
    "        Args:\n",
    "            text: string containing space-separated words, on which to compute\n",
    "            alpha: constant to use in Laplace smoothing\n",
    "\n",
    "        Note: for the purposes of smoothing, the dictionary size (i.e, the D term)\n",
    "        should be equal to the total number of unique words used to build the model\n",
    "        _and_ in the input text to this function.\n",
    "\n",
    "        Returns: perplexity\n",
    "            perplexity: floating point value, perplexity of the text as evaluted\n",
    "                        under the model.\n",
    "        \"\"\"        \n",
    "        regex = re.compile(\"\\s+\")\n",
    "        terms = re.split(regex, text)\n",
    "        n = self.n\n",
    "        logp_sum = 0.0    \n",
    "        D = len(self.vocab.union(set(terms)))\n",
    "\n",
    "        for i in range(0, len(terms) - n + 1):\n",
    "            end = i + n - 1\n",
    "            t = tuple(terms[i:end])\n",
    "            end_term = terms[end]\n",
    "            c = 0.0\n",
    "            c_sum = 0.0\n",
    "            if t in self.dict:\n",
    "                c_sum = self.dict[t][self.sum_index]\n",
    "                if end_term in self.dict[t]:\n",
    "                    c = self.dict[t][end_term]\n",
    "                \n",
    "            log_p = np.log2(float(c + alpha)) - np.log2(float(c_sum + alpha * D))\n",
    "            logp_sum += log_p\n",
    "        return np.power(2, -logp_sum/(len(terms) - n + 1))\n",
    "\n",
    "    def gen_beginning(self):\n",
    "        t_sum = len(self.dict)\n",
    "        rand = random.randint(0, t_sum)\n",
    "        i = 0\n",
    "        for t in self.dict.iterkeys():\n",
    "            if i == rand:\n",
    "                return list(t)\n",
    "            i += 1\n",
    "\n",
    "    def sample(self, k):\n",
    "        \"\"\"\n",
    "        Generate a random sample of k words.\n",
    "\n",
    "        Args:\n",
    "            k: integer, indicating the number of words to sample\n",
    "\n",
    "        Returns: text\n",
    "            text: string of words generated from the model.\n",
    "        \"\"\"\n",
    "        result = []\n",
    "        current = self.gen_beginning()\n",
    "        while len(result) < k:\n",
    "            t = tuple(current)\n",
    "            if t in self.dict:\n",
    "                c_sum = self.dict[t][self.sum_index]\n",
    "                rand = random.randint(0, c_sum)\n",
    "                new_term = \"\"\n",
    "                for term, count in self.dict[t].iteritems():\n",
    "                    if term == self.sum_index:\n",
    "                        continue\n",
    "                    if rand > count:\n",
    "                        rand -= count\n",
    "                    else:\n",
    "                        new_term = term\n",
    "                        break\n",
    "                result.append(current[0])\n",
    "                current.remove(current[0])\n",
    "                current.append(new_term)\n",
    "            else:\n",
    "                current = self.gen_beginning()\n",
    "        return \" \".join(result)"
   ]
  },
  {
   "cell_type": "code",
   "execution_count": null,
   "metadata": {
    "collapsed": true
   },
   "outputs": [],
   "source": []
  },
  {
   "cell_type": "markdown",
   "metadata": {},
   "source": [
    "### Part A: Initializing the language model\n",
    "\n",
    "First, implement the `__init__()` function in the `LanguageModel` class.  You can store the information any way you want, but we did this by building a two-level dictionary (in fact, we used the `collections.defaultdict` class, but this only make a few things a little bit shorter ... you are free to use it or not) `self.counts`, where the first key refers to the previous $n-1$ tokens, and the second key refers to the $n$th token, and the value simply stores the count of the number of times this combination was seen.  For ease of use in later function, we also created a `self.count_sums`, which contained the number of total times each $n-1$ combination was seen.\n",
    "\n",
    "For example, letting `l_hamilton` be a LanguageModel object built just from all the known Hamilton papers and with `n = 3`, the following varibles are populated in the object:\n",
    "\n",
    "    l_hamilton.counts[\"privilege of\"] = {'being': 1, 'originating': 1, 'paying': 1, 'the': 1}\n",
    "    l_hamilton.count_sums[\"privilege of\"] = 4\n",
    "    \n",
    "We also build a `self.dictionary` variable, which is just a `set` object containing all the unique words in across the entire set of input document."
   ]
  },
  {
   "cell_type": "markdown",
   "metadata": {},
   "source": [
    "### Part B: Computing perplexity\n",
    "\n",
    "Next, implement the `perplexity()` function, which takes a text sample and computes the perplexity of this sample under the model.  Use the formula for perplexity from the class nodes (which is actually not exact, since it only so, being careful to not multiply togther probabilites that get too small (hint: instead of taking the log of a large product, take the sum of the logs).\n",
    "\n",
    "You'll want to be careful about dictionary sizes when it comes to the Laplace smoothing term: make sure your dictionary size $D$ is equal to the total number of unique words that occur in either the original data used to build the language model _or_ in the text we are evaluating the perplexity of (so the size of the union of the two).\n",
    "\n",
    "As a simple example, if we build our `l_hamilton` model above (again, with `n=3`) and using default settings so that `alpha = 1e-3`, and run in on `papers[0]` (which was written by Hamilton), we get:\n",
    "\n",
    "    l_hamilton.perplexity(papers[0]) = 12.5877"
   ]
  },
  {
   "cell_type": "markdown",
   "metadata": {},
   "source": [
    "Using this model, evaluate the mean of the perplexity of the unknown Federalist papers for the language models from each of the three authors (again, using `n=3` and the default of `alpha=1e-3`).  Populate the following variables with the mean perplexities."
   ]
  },
  {
   "cell_type": "code",
   "execution_count": 34,
   "metadata": {
    "collapsed": false
   },
   "outputs": [
    {
     "name": "stdout",
     "output_type": "stream",
     "text": [
      "2671.54703136\n"
     ]
    }
   ],
   "source": [
    "### AUTOLAB_IGNORE_START\n",
    "# l_hamilton = LanguageModel(hamilton, 3)\n",
    "# l_madison = LanguageModel(madison, 3)\n",
    "# l_jay = LanguageModel(jay, 3)\n",
    "\n",
    "# perp_hamilton = 0.0\n",
    "# perp_madison = 0.0\n",
    "# perp_jay = 0.0\n",
    "\n",
    "# print l_hamilton.perplexity(papers[1])\n",
    "\n",
    "# for u in u_indexes:\n",
    "#     perp_hamilton += l_hamilton.perplexity(papers[u])\n",
    "#     perp_madison += l_madison.perplexity(papers[u])\n",
    "#     perp_jay += l_jay.perplexity(papers[u])\n",
    "\n",
    "# perp_hamilton /= float(len(u_indexes))\n",
    "# perp_madison /= float(len(u_indexes))\n",
    "# perp_jay /= float(len(u_indexes))\n",
    "\n",
    "# print perp_hamilton\n",
    "### AUTOLAB_IGNORE_STOP"
   ]
  },
  {
   "cell_type": "code",
   "execution_count": 16,
   "metadata": {
    "collapsed": false
   },
   "outputs": [
    {
     "name": "stdout",
     "output_type": "stream",
     "text": [
      "{'being': 1, 'originating': 1, 'the': 1, '**sum*': 4, 'paying': 1}\n"
     ]
    }
   ],
   "source": [
    "### AUTOLAB_IGNORE_START\n",
    "# print l_hamilton.dict[(\"privilege\", \"of\")]\n",
    "### AUTOLAB_IGNORE_STOP"
   ]
  },
  {
   "cell_type": "markdown",
   "metadata": {},
   "source": [
    "As a check, you should get a perplexity of 1941.38516773 for the unknown papers under the Hamilton model. "
   ]
  },
  {
   "cell_type": "markdown",
   "metadata": {},
   "source": [
    "### Part C: Generating text\n",
    "\n",
    "Finally, implement the `sample()` function to generate random samples of text.  Essentially, you want to pick some random starting $n-1$ tuples (you can do this any way you want), then sample according to the model.  Here you should _not_ use any Laplace smoothing, but just sample from the raw underlying counts.\n",
    "\n",
    "One potential failure case, since we're just using raw counts, is if we generate an n-gram that _only_ occurs at the very end of a document (and so has no following n-gram observed in the data).  In this happens, just generate a new random set of $n-1$ tuples, and continue generating.\n",
    "\n",
    "We'll be pretty lax in grading here: we're just going to be evaluating the perplexity of the generated text and make sure it's within some very loose bounds.  This is more for the fun of seeing some generated text than for actual concrete evaluation, since it's generating a random sample.  Here's what a sample of 200 words from our Hamilton model looks like (of course all random samples will be different). \n",
    "\n",
    "    'erroneous foundation . the authorities essential to the mercy of the body politic against these two legislatures coexisted for ages in two ways : either by actual possession of which , if it cease to regard the servile pliancy of the states which have a salutary and powerful means , by those who appoint them . they are rather a source of delinquency , it would enable the national situation , and consuls , judges of their own immediate aggrandizement ? would she not have been felt by those very maxims and councils which would be mutually questions of property ? and will he not only against the united netherlands with that which has been presumed . the censure attendant on bad measures among a multitude that might have been of a regular and effective system of civil polity had previously established in this state , but upon our neutrality . by thus circumscribing the plan of opposition , and the industrious habits of the trust committed to hands which could not be likely to do anything else . when will the time at which we might soar to a deed for conveying property of the people , were dreaded and detested'\n",
    "\n"
   ]
  },
  {
   "cell_type": "code",
   "execution_count": 37,
   "metadata": {
    "collapsed": false
   },
   "outputs": [
    {
     "name": "stdout",
     "output_type": "stream",
     "text": [
      "claimed under the name of government , and especially from all sincere lovers of their navigation and the want of being taught by the convention , in respect to elections , contained in the matter cannot fail to agitate the passions and their constitution prevents the differences of opinion , which have been no direct contradiction of power ; and that the joint efforts of the state , unless where they reside , more foundation , the principle to which it is evident that a continuance of his treachery to his own capacity and desert ; and these effects would be immediately injured by the convention , it will readily be perceived that a provision of this nature , is impossible to believe that they would affect the spirit of the country at and near the seat of war , and of other irregular and violent propensities ? is it not ( we may safely count upon their pride , the fate of a few hours , or in part , they may have led to conclude without first taking a survey of the person , in every constitutional sense obligatory upon the federal power of regulating elections for their\n",
      "200\n"
     ]
    },
    {
     "data": {
      "text/plain": [
       "12.342513693469574"
      ]
     },
     "execution_count": 37,
     "metadata": {},
     "output_type": "execute_result"
    }
   ],
   "source": [
    "### AUTOLAB_IGNORE_START\n",
    "# print l_hamilton.sample(200)\n",
    "# print len(l_hamilton.sample(200).split())\n",
    "# l_hamilton.perplexity(l_hamilton.sample(200))\n",
    "### AUTOLAB_IGNORE_STOP"
   ]
  },
  {
   "cell_type": "code",
   "execution_count": 36,
   "metadata": {
    "collapsed": false
   },
   "outputs": [
    {
     "name": "stdout",
     "output_type": "stream",
     "text": [
      "{'**sum*': 2, ',': 1, 'that': 1}\n"
     ]
    }
   ],
   "source": []
  },
  {
   "cell_type": "code",
   "execution_count": null,
   "metadata": {
    "collapsed": true
   },
   "outputs": [],
   "source": []
  }
 ],
 "metadata": {
  "anaconda-cloud": {},
  "kernelspec": {
   "display_name": "Python [default]",
   "language": "python",
   "name": "python2"
  },
  "language_info": {
   "codemirror_mode": {
    "name": "ipython",
    "version": 2
   },
   "file_extension": ".py",
   "mimetype": "text/x-python",
   "name": "python",
   "nbconvert_exporter": "python",
   "pygments_lexer": "ipython2",
   "version": "2.7.12"
  }
 },
 "nbformat": 4,
 "nbformat_minor": 1
}
